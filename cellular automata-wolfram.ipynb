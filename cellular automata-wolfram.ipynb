{
 "cells": [
  {
   "cell_type": "code",
   "execution_count": 20,
   "metadata": {},
   "outputs": [],
   "source": [
    "import PIL\n",
    "from typing import List\n",
    "from PIL import Image"
   ]
  },
  {
   "cell_type": "code",
   "execution_count": 21,
   "metadata": {},
   "outputs": [],
   "source": [
    "CELLS = [[0, 0, 0, 0, 0, 0, 0, 0, 0, 0, 0, 0, 0, 0, 0, 1,\n",
    "          0, 0, 0, 0, 0, 0, 0, 0, 0, 0, 0, 0, 0, 0, 0]]\n"
   ]
  },
  {
   "cell_type": "code",
   "execution_count": 26,
   "metadata": {},
   "outputs": [],
   "source": [
    "def format_ruleset(ruleset: int) -> List[int]:\n",
    "    return [int(c) for c in f\"{ruleset:08}\"[:8]]"
   ]
  },
  {
   "cell_type": "code",
   "execution_count": 27,
   "metadata": {},
   "outputs": [],
   "source": [
    "def new_generation(cells: List[List[int]], rule: List[int], time: int) -> List[int]:\n",
    "    population = len(cells[0])\n",
    "    next_generation = []\n",
    "    for i in range(population):\n",
    "        left_neighbor = 0 if i == 0 else cells[time][i-1]\n",
    "        right_neighbor = 0 if i == population - 1 else cells[time][i+1]\n",
    "        situation =  7 - int(f\"{left_neighbor}{cells[time][i]}{right_neighbor}\",2)\n",
    "        next_generation.append(rule[situation])\n",
    "    return next_generation\n"
   ]
  },
  {
   "cell_type": "code",
   "execution_count": 28,
   "metadata": {},
   "outputs": [],
   "source": [
    "def generate_image(cells: List[List[int]]) -> Image.Image:\n",
    "    img = Image.new(\"RGB\", (len(cells[0]), len(cells)))\n",
    "    pixels = img.load()\n",
    "    for w in range(img.width):\n",
    "        for h in range(img.height):\n",
    "            color = 255 - int(255 * cells[h][w])\n",
    "            pixels[w, h] = (color, color, color)\n",
    "    return img"
   ]
  },
  {
   "cell_type": "code",
   "execution_count": 29,
   "metadata": {},
   "outputs": [
    {
     "name": "stdout",
     "output_type": "stream",
     "text": [
      "Rule:\n",
      "1231321\n"
     ]
    }
   ],
   "source": [
    "if __name__ == \"__main__\":\n",
    "    \n",
    "    rule_num = bin(int(input(\"Rule:\\n\").strip()))[2:]\n",
    "    rule = format_ruleset(int(rule_num))\n",
    "    for time in range(16):\n",
    "        CELLS.append(new_generation(CELLS, rule, time))\n",
    "    img = generate_image(CELLS)\n",
    "    img.show()"
   ]
  },
  {
   "cell_type": "code",
   "execution_count": null,
   "metadata": {},
   "outputs": [],
   "source": []
  }
 ],
 "metadata": {
  "kernelspec": {
   "display_name": "Python 3",
   "language": "python",
   "name": "python3"
  },
  "language_info": {
   "codemirror_mode": {
    "name": "ipython",
    "version": 3
   },
   "file_extension": ".py",
   "mimetype": "text/x-python",
   "name": "python",
   "nbconvert_exporter": "python",
   "pygments_lexer": "ipython3",
   "version": "3.7.7"
  }
 },
 "nbformat": 4,
 "nbformat_minor": 4
}
